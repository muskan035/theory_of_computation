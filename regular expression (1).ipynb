{
 "cells": [
  {
   "cell_type": "markdown",
   "metadata": {},
   "source": [
    "enrollment no"
   ]
  },
  {
   "cell_type": "code",
   "execution_count": 1,
   "metadata": {},
   "outputs": [
    {
     "name": "stdin",
     "output_type": "stream",
     "text": [
      " 0827CS171124\n"
     ]
    },
    {
     "name": "stdout",
     "output_type": "stream",
     "text": [
      "your input: 0827CS171124\n",
      "YES! We have a match!\n"
     ]
    }
   ],
   "source": [
    "import re\n",
    "enr=input()\n",
    "print(\"your input:\",enr)\n",
    "x = re.search(\"^0827+CS|IT|ME|CE+171[001-248]$\", enr)\n",
    "if (x):\n",
    "  print(\"YES! We have a match!\")\n",
    "else:\n",
    "  print(\"No match\")\n"
   ]
  },
  {
   "cell_type": "markdown",
   "metadata": {},
   "source": [
    "email"
   ]
  },
  {
   "cell_type": "code",
   "execution_count": 2,
   "metadata": {},
   "outputs": [
    {
     "name": "stdin",
     "output_type": "stream",
     "text": [
      " muskan035@gmail.com\n"
     ]
    },
    {
     "name": "stdout",
     "output_type": "stream",
     "text": [
      "your input: muskan035@gmail.com\n",
      "MATCHED\n"
     ]
    }
   ],
   "source": [
    "import re\n",
    "email = input()\n",
    "print(\"your input:\",email)\n",
    "x = re.search(\".+@.+\\.com|\\.in|\\.co.in\", email)\n",
    "if (x):\n",
    "  print(\"MATCHED\")\n",
    "else:\n",
    "  print(\"MATCH NOT FOUND\")\n"
   ]
  },
  {
   "cell_type": "markdown",
   "metadata": {},
   "source": [
    "string Starting with 1 and ending with 0 or starting with 0 and ending with 1"
   ]
  },
  {
   "cell_type": "code",
   "execution_count": 4,
   "metadata": {},
   "outputs": [
    {
     "name": "stdin",
     "output_type": "stream",
     "text": [
      " 0101011\n"
     ]
    },
    {
     "name": "stdout",
     "output_type": "stream",
     "text": [
      "your input: 0101011\n",
      "MATCHED\n"
     ]
    }
   ],
   "source": [
    "import re\n",
    "str=input()\n",
    "print(\"your input:\",str)\n",
    "x = re.search(\"^0[0-1]*1$|^1[0-1]*0$\", str)\n",
    "if (x):\n",
    "  print(\"MATCHED\")\n",
    "else:\n",
    "  print(\"NOT FOUND\")\n"
   ]
  },
  {
   "cell_type": "markdown",
   "metadata": {},
   "source": [
    "string ending with 00 or 11"
   ]
  },
  {
   "cell_type": "code",
   "execution_count": 5,
   "metadata": {},
   "outputs": [
    {
     "name": "stdin",
     "output_type": "stream",
     "text": [
      " 001100\n"
     ]
    },
    {
     "name": "stdout",
     "output_type": "stream",
     "text": [
      "String: 001100\n",
      "MATCHED\n"
     ]
    }
   ],
   "source": [
    "import re\n",
    "str=input()\n",
    "print(\"String:\",str)\n",
    "x = re.search(\"[0-1]*00$|[0-1]*11$\", str)\n",
    "if (x):\n",
    "  print(\"MATCHED\")\n",
    "else:\n",
    "  print(\"NOT FOUND\")\n"
   ]
  },
  {
   "cell_type": "code",
   "execution_count": null,
   "metadata": {},
   "outputs": [],
   "source": []
  }
 ],
 "metadata": {
  "kernelspec": {
   "display_name": "Python 3",
   "language": "python",
   "name": "python3"
  },
  "language_info": {
   "codemirror_mode": {
    "name": "ipython",
    "version": 3
   },
   "file_extension": ".py",
   "mimetype": "text/x-python",
   "name": "python",
   "nbconvert_exporter": "python",
   "pygments_lexer": "ipython3",
   "version": "3.7.3"
  }
 },
 "nbformat": 4,
 "nbformat_minor": 4
}
